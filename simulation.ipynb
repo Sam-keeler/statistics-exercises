{
 "cells": [
  {
   "cell_type": "code",
   "execution_count": 126,
   "metadata": {},
   "outputs": [],
   "source": [
    "import numpy as np\n",
    "import pandas as pd\n",
    "import seaborn as sns\n",
    "import matplotlib.pyplot as plt"
   ]
  },
  {
   "cell_type": "code",
   "execution_count": 3,
   "metadata": {},
   "outputs": [],
   "source": [
    "die1 = np.random.choice([1, 2, 3, 4, 5, 6], size = 10000)\n",
    "die2 = np.random.choice([1, 2, 3, 4, 5, 6], size = 10000)"
   ]
  },
  {
   "cell_type": "code",
   "execution_count": 4,
   "metadata": {},
   "outputs": [],
   "source": [
    "doubles = (die1 == die2)"
   ]
  },
  {
   "cell_type": "code",
   "execution_count": 5,
   "metadata": {},
   "outputs": [
    {
     "data": {
      "text/plain": [
       "array([ True, False, False, ..., False, False,  True])"
      ]
     },
     "execution_count": 5,
     "metadata": {},
     "output_type": "execute_result"
    }
   ],
   "source": [
    "doubles"
   ]
  },
  {
   "cell_type": "code",
   "execution_count": 6,
   "metadata": {},
   "outputs": [
    {
     "data": {
      "text/plain": [
       "0.1647"
      ]
     },
     "execution_count": 6,
     "metadata": {},
     "output_type": "execute_result"
    }
   ],
   "source": [
    "# How likely is it that you roll doubles when rolling two dice?\n",
    "doubles.mean()"
   ]
  },
  {
   "cell_type": "code",
   "execution_count": 7,
   "metadata": {},
   "outputs": [],
   "source": [
    "flips = np.random.choice([0, 1], size = (1000000, 8))"
   ]
  },
  {
   "cell_type": "code",
   "execution_count": 8,
   "metadata": {},
   "outputs": [
    {
     "data": {
      "text/plain": [
       "array([[0, 0, 0, ..., 0, 0, 1],\n",
       "       [0, 0, 1, ..., 0, 1, 0],\n",
       "       [0, 1, 0, ..., 0, 0, 0],\n",
       "       ...,\n",
       "       [1, 1, 1, ..., 1, 1, 0],\n",
       "       [0, 0, 1, ..., 1, 1, 0],\n",
       "       [0, 0, 1, ..., 0, 1, 0]])"
      ]
     },
     "execution_count": 8,
     "metadata": {},
     "output_type": "execute_result"
    }
   ],
   "source": [
    "flips"
   ]
  },
  {
   "cell_type": "code",
   "execution_count": 9,
   "metadata": {},
   "outputs": [],
   "source": [
    "totheads = flips.sum(axis = 1)"
   ]
  },
  {
   "cell_type": "code",
   "execution_count": 10,
   "metadata": {},
   "outputs": [
    {
     "data": {
      "text/plain": [
       "array([2, 3, 2, ..., 6, 3, 2])"
      ]
     },
     "execution_count": 10,
     "metadata": {},
     "output_type": "execute_result"
    }
   ],
   "source": [
    "totheads"
   ]
  },
  {
   "cell_type": "markdown",
   "metadata": {},
   "source": []
  },
  {
   "cell_type": "code",
   "execution_count": 11,
   "metadata": {},
   "outputs": [],
   "source": [
    "equals_3_of_8 = (totheads == 3)"
   ]
  },
  {
   "cell_type": "code",
   "execution_count": 12,
   "metadata": {},
   "outputs": [
    {
     "data": {
      "text/plain": [
       "0.218794"
      ]
     },
     "execution_count": 12,
     "metadata": {},
     "output_type": "execute_result"
    }
   ],
   "source": [
    "# If you flip 8 coins, what is the probability of getting exactly 3 heads?\n",
    "equals_3_of_8.mean()"
   ]
  },
  {
   "cell_type": "code",
   "execution_count": 13,
   "metadata": {},
   "outputs": [],
   "source": [
    "greater_than_3 = (totheads > 3)"
   ]
  },
  {
   "cell_type": "code",
   "execution_count": 14,
   "metadata": {},
   "outputs": [
    {
     "data": {
      "text/plain": [
       "0.636103"
      ]
     },
     "execution_count": 14,
     "metadata": {},
     "output_type": "execute_result"
    }
   ],
   "source": [
    "# What is the probability of getting more than 3 heads?\n",
    "greater_than_3.mean()"
   ]
  },
  {
   "cell_type": "code",
   "execution_count": 15,
   "metadata": {},
   "outputs": [],
   "source": [
    "bills1 = np.random.choice([0, 1], size = (1000000, 2), p = [.75, .25])\n"
   ]
  },
  {
   "cell_type": "code",
   "execution_count": 16,
   "metadata": {},
   "outputs": [
    {
     "data": {
      "text/plain": [
       "array([[0, 0],\n",
       "       [0, 1],\n",
       "       [1, 0],\n",
       "       ...,\n",
       "       [0, 0],\n",
       "       [0, 0],\n",
       "       [1, 1]])"
      ]
     },
     "execution_count": 16,
     "metadata": {},
     "output_type": "execute_result"
    }
   ],
   "source": [
    "bills1"
   ]
  },
  {
   "cell_type": "code",
   "execution_count": 17,
   "metadata": {},
   "outputs": [],
   "source": [
    "both_science = (bills1.sum(axis = 1) == 2)"
   ]
  },
  {
   "cell_type": "code",
   "execution_count": 18,
   "metadata": {},
   "outputs": [
    {
     "data": {
      "text/plain": [
       "0.062527"
      ]
     },
     "execution_count": 18,
     "metadata": {},
     "output_type": "execute_result"
    }
   ],
   "source": [
    "# There are approximately 3 web development cohorts for every 1 data science cohort at Codeup. \n",
    "# Assuming that Codeup randomly selects an alumni to put on a billboard, what are the odds that\n",
    "# the two billboards I drive past both have data science students on them?\n",
    "both_science.mean()"
   ]
  },
  {
   "cell_type": "code",
   "execution_count": 19,
   "metadata": {},
   "outputs": [],
   "source": [
    "# Codeup students buy, on average, 3 poptart packages (+- 1.5) a day from the snack vending machine.\n",
    "\n",
    "popdata = np.random.normal(3, 1.5, size = (100000, 5))"
   ]
  },
  {
   "cell_type": "code",
   "execution_count": 20,
   "metadata": {},
   "outputs": [],
   "source": [
    "use_of_week = popdata.sum(axis = 1)"
   ]
  },
  {
   "cell_type": "code",
   "execution_count": 21,
   "metadata": {},
   "outputs": [
    {
     "data": {
      "text/plain": [
       "0.72448"
      ]
     },
     "execution_count": 21,
     "metadata": {},
     "output_type": "execute_result"
    }
   ],
   "source": [
    "# If on monday the machine is restocked with 17 poptart packages, how likely is it that I will be \n",
    "# able to buy some poptarts on Friday afternoon?\n",
    "\n",
    "(use_of_week < 17).mean()"
   ]
  },
  {
   "cell_type": "code",
   "execution_count": 22,
   "metadata": {},
   "outputs": [],
   "source": [
    "# Men have an average height of 178 cm and standard deviation of 8cm.\n",
    "# Women have a mean of 170, sd = 6cm.\n",
    "\n",
    "men = np.random.normal(178, 8, size = (100000))\n",
    "women = np.random.normal(170, 6, size = (100000))"
   ]
  },
  {
   "cell_type": "code",
   "execution_count": 23,
   "metadata": {},
   "outputs": [],
   "source": [
    "are_they_though = (women > men)"
   ]
  },
  {
   "cell_type": "code",
   "execution_count": 24,
   "metadata": {},
   "outputs": [
    {
     "data": {
      "text/plain": [
       "0.20991"
      ]
     },
     "execution_count": 24,
     "metadata": {},
     "output_type": "execute_result"
    }
   ],
   "source": [
    "# If a man and woman are chosen at random, P(woman taller than man)?\n",
    "\n",
    "are_they_though.mean()"
   ]
  },
  {
   "cell_type": "code",
   "execution_count": 25,
   "metadata": {},
   "outputs": [],
   "source": [
    "# When installing anaconda on a student's computer, there's a 1 in 250 chance that the download is corrupted\n",
    "# and the installation fails. \n",
    "# What are the odds that after having 50 students download anaconda, no one has an installation issue? 100 students\n",
    "\n",
    "classes_of_fifty = np.random.choice([0, 1], size = (100000, 50), p = [.996, .004])"
   ]
  },
  {
   "cell_type": "code",
   "execution_count": 26,
   "metadata": {},
   "outputs": [
    {
     "data": {
      "text/plain": [
       "0.81853"
      ]
     },
     "execution_count": 26,
     "metadata": {},
     "output_type": "execute_result"
    }
   ],
   "source": [
    "# What are the odds that after having 50 students download anaconda, no one has an installation issue?\n",
    "\n",
    "(classes_of_fifty.sum(axis = 1) < 1).mean()"
   ]
  },
  {
   "cell_type": "code",
   "execution_count": 27,
   "metadata": {},
   "outputs": [
    {
     "data": {
      "text/plain": [
       "0.6676"
      ]
     },
     "execution_count": 27,
     "metadata": {},
     "output_type": "execute_result"
    }
   ],
   "source": [
    "# 100 students?\n",
    "\n",
    "classes_of_hunned = np.random.choice([0, 1], size = (100000, 100), p = [.996, .004])\n",
    "(classes_of_hunned.sum(axis = 1) < 1).mean()"
   ]
  },
  {
   "cell_type": "code",
   "execution_count": 28,
   "metadata": {},
   "outputs": [
    {
     "data": {
      "text/plain": [
       "0.45175"
      ]
     },
     "execution_count": 28,
     "metadata": {},
     "output_type": "execute_result"
    }
   ],
   "source": [
    "# What is the probability that we observe an installation issue within the first \n",
    "# 150 students that download anaconda?\n",
    "\n",
    "classes_of_hunned_fitty = np.random.choice([0, 1], size = (100000, 150), p = [.996, .004])\n",
    "(classes_of_hunned_fitty.sum(axis = 1) > 0).mean()"
   ]
  },
  {
   "cell_type": "code",
   "execution_count": 29,
   "metadata": {},
   "outputs": [
    {
     "data": {
      "text/plain": [
       "0.16644"
      ]
     },
     "execution_count": 29,
     "metadata": {},
     "output_type": "execute_result"
    }
   ],
   "source": [
    "# How likely is it that 450 students all download anaconda without an issue?\n",
    "\n",
    "classes_of_450 = np.random.choice([0, 1], size = (100000, 450), p = [.996, .004])\n",
    "(classes_of_450.sum(axis = 1) < 1).mean()"
   ]
  },
  {
   "cell_type": "code",
   "execution_count": 30,
   "metadata": {},
   "outputs": [
    {
     "data": {
      "text/plain": [
       "array([[1, 1, 0],\n",
       "       [0, 0, 1],\n",
       "       [1, 0, 1],\n",
       "       ...,\n",
       "       [1, 1, 0],\n",
       "       [1, 1, 1],\n",
       "       [1, 0, 0]])"
      ]
     },
     "execution_count": 30,
     "metadata": {},
     "output_type": "execute_result"
    }
   ],
   "source": [
    "# There's a 70% chance on any given day that there will be at least one food truck at Travis Park. \n",
    "# However, you haven't seen a food truck there in 3 days.\n",
    "\n",
    "trucks = np.random.choice([0, 1], size = [100000, 3], p = [.3, .7])\n",
    "trucks"
   ]
  },
  {
   "cell_type": "code",
   "execution_count": 31,
   "metadata": {},
   "outputs": [
    {
     "data": {
      "text/plain": [
       "0.02728"
      ]
     },
     "execution_count": 31,
     "metadata": {},
     "output_type": "execute_result"
    }
   ],
   "source": [
    "# How unlikely is this?\n",
    "\n",
    "(trucks.sum(axis = 1) < 1).mean()"
   ]
  },
  {
   "cell_type": "code",
   "execution_count": 32,
   "metadata": {},
   "outputs": [
    {
     "data": {
      "text/plain": [
       "0.99985"
      ]
     },
     "execution_count": 32,
     "metadata": {},
     "output_type": "execute_result"
    }
   ],
   "source": [
    "# How likely is it that a food truck will show up sometime this week?\n",
    "trucks_week = np.random.choice([0, 1], size = [100000, 7], p = [.3, .7])\n",
    "(trucks_week.sum(axis = 1) > 0).mean()"
   ]
  },
  {
   "cell_type": "code",
   "execution_count": 33,
   "metadata": {},
   "outputs": [],
   "source": [
    "# If 23 people are in the same room, what are the odds that two of them share a birthday?\n",
    "# What if it's 20 people? 40?\n",
    "\n",
    "birthdays = np.random.choice([x for x in range(1, 366)], size = [10000, 23])\n"
   ]
  },
  {
   "cell_type": "code",
   "execution_count": 34,
   "metadata": {},
   "outputs": [],
   "source": [
    "def is_repeats(r):\n",
    "    seen = set()\n",
    "    for i in r:\n",
    "        if i in seen:\n",
    "            return True\n",
    "        seen.add(i)\n",
    "    return False"
   ]
  },
  {
   "cell_type": "code",
   "execution_count": 35,
   "metadata": {},
   "outputs": [],
   "source": [
    "alter_list = []\n",
    "for x in birthdays:\n",
    "    x = is_repeats(x)\n",
    "    alter_list.append(x)"
   ]
  },
  {
   "cell_type": "code",
   "execution_count": 36,
   "metadata": {},
   "outputs": [
    {
     "data": {
      "text/plain": [
       "0.5091"
      ]
     },
     "execution_count": 36,
     "metadata": {},
     "output_type": "execute_result"
    }
   ],
   "source": [
    "# If 23 people are in the same room, what are the odds that two of them share a birthday?\n",
    "\n",
    "sum(alter_list)/len(alter_list)"
   ]
  },
  {
   "cell_type": "code",
   "execution_count": 37,
   "metadata": {},
   "outputs": [],
   "source": [
    "birthdays_for_20 = np.random.choice([x for x in range(1, 366)], size = [10000, 20])"
   ]
  },
  {
   "cell_type": "code",
   "execution_count": 38,
   "metadata": {},
   "outputs": [],
   "source": [
    "alter_20_list = []\n",
    "for x in birthdays_for_20:\n",
    "    x = is_repeats(x)\n",
    "    alter_20_list.append(x)"
   ]
  },
  {
   "cell_type": "code",
   "execution_count": 39,
   "metadata": {},
   "outputs": [
    {
     "data": {
      "text/plain": [
       "0.4074"
      ]
     },
     "execution_count": 39,
     "metadata": {},
     "output_type": "execute_result"
    }
   ],
   "source": [
    "# What if it's 20 people?\n",
    "\n",
    "sum(alter_20_list)/len(alter_20_list)"
   ]
  },
  {
   "cell_type": "code",
   "execution_count": 40,
   "metadata": {},
   "outputs": [],
   "source": [
    "birthdays_for_40 = np.random.choice([x for x in range(1, 366)], size = [10000, 40])"
   ]
  },
  {
   "cell_type": "code",
   "execution_count": 41,
   "metadata": {},
   "outputs": [],
   "source": [
    "alter_40_list = []\n",
    "for x in birthdays_for_40:\n",
    "    x = is_repeats(x)\n",
    "    alter_40_list.append(x)"
   ]
  },
  {
   "cell_type": "code",
   "execution_count": 42,
   "metadata": {},
   "outputs": [
    {
     "data": {
      "text/plain": [
       "0.8876"
      ]
     },
     "execution_count": 42,
     "metadata": {},
     "output_type": "execute_result"
    }
   ],
   "source": [
    "sum(alter_40_list)/len(alter_40_list)"
   ]
  },
  {
   "cell_type": "code",
   "execution_count": 43,
   "metadata": {},
   "outputs": [],
   "source": [
    "# Imagine your wizard has 6d4 health points and you have spells that do 6d4 damage. \"6d4\" means \n",
    "# rolling six 4-sided dice and summing the result.\n",
    "# Your opposing mage has 4d6 health points and spells that do 4d6. \n",
    "# \"4d6\" means rolling four six-sided dice and summing the result."
   ]
  },
  {
   "cell_type": "code",
   "execution_count": 44,
   "metadata": {},
   "outputs": [],
   "source": [
    "# Before running simulations, do you have a hypothesis of which mage will win? \n",
    "# Do you have a hunch? Write it down. This is your first exercise.\n",
    "\n",
    "# My wizard will win more often, the minimum of my rolls is 6 whereas my opponents minumum \n",
    "# roll is 4 however we both have the same max of 24"
   ]
  },
  {
   "cell_type": "code",
   "execution_count": 71,
   "metadata": {},
   "outputs": [],
   "source": [
    "def wizard_battle(x):\n",
    "    scoreboard = {\"Wins\" : 0, \"Losses\" : 0}\n",
    "    wins = 0\n",
    "    losses = 0\n",
    "    for i in range(1, x + 1):\n",
    "        mwh = (np.random.choice([1, 2, 3, 4], size = (1, 6))).sum(axis = 1)\n",
    "        ewh = (np.random.choice([1, 2, 3, 4, 5, 6], size = (1, 4))).sum(axis = 1)\n",
    "        while mwh > 0 and ewh > 0 or mwh == ewh:\n",
    "            mwh = mwh - (np.random.choice([1, 2, 3, 4, 5, 6], size = (1, 4))).sum(axis = 1)\n",
    "            ewh = ewh - (np.random.choice([1, 2, 3, 4], size = (1, 6))).sum(axis = 1)\n",
    "        if mwh > ewh:\n",
    "            scoreboard[\"Wins\"] = scoreboard[\"Wins\"] + 1\n",
    "        if ewh > mwh:\n",
    "            scoreboard[\"Losses\"] = scoreboard[\"Losses\"] + 1\n",
    "    return scoreboard"
   ]
  },
  {
   "cell_type": "code",
   "execution_count": 152,
   "metadata": {},
   "outputs": [
    {
     "data": {
      "text/plain": [
       "{'Wins': 8, 'Losses': 2}"
      ]
     },
     "execution_count": 152,
     "metadata": {},
     "output_type": "execute_result"
    }
   ],
   "source": [
    "# Simulate 10 mage duels. Is there a clear winner? Run that 10 duel simulation again. Was the answer similar?\n",
    "# I win\n",
    "\n",
    "wizard_battle(10)"
   ]
  },
  {
   "cell_type": "code",
   "execution_count": 153,
   "metadata": {},
   "outputs": [
    {
     "data": {
      "text/plain": [
       "{'Wins': 66, 'Losses': 34}"
      ]
     },
     "execution_count": 153,
     "metadata": {},
     "output_type": "execute_result"
    }
   ],
   "source": [
    "# Do the results change much at 100 duels?\n",
    "\n",
    "wizard_battle(100)"
   ]
  },
  {
   "cell_type": "code",
   "execution_count": 94,
   "metadata": {},
   "outputs": [
    {
     "data": {
      "text/plain": [
       "{'Wins': 6417, 'Losses': 3583}"
      ]
     },
     "execution_count": 94,
     "metadata": {},
     "output_type": "execute_result"
    }
   ],
   "source": [
    "# Now, simulate 10,000 mage duels. Is there a clear winner?\n",
    "\n",
    "wizard_battle(10000)"
   ]
  },
  {
   "cell_type": "code",
   "execution_count": 107,
   "metadata": {},
   "outputs": [
    {
     "data": {
      "text/plain": [
       "[2, 1, 3]"
      ]
     },
     "execution_count": 107,
     "metadata": {},
     "output_type": "execute_result"
    }
   ],
   "source": [
    "# Rules:\n",
    "\n",
    "# The player pays $1 to play and picks a number.\n",
    "\n",
    "# The House rolls 3 dice at once.\n",
    "\n",
    "# Payouts:\n",
    "\n",
    "# $3 if all three dice match the chosen number\n",
    "# $2 if exactly two dice match the chosen number\n",
    "# $1 is exactly one of the dice matches the chosen number\n",
    "# If none of the dice match the player's chosen number, then the House keeps the $1.\n",
    "new = (np.random.choice([1, 2, 3, 4, 5, 6], size = (1, 3))).tolist()\n",
    "flat_list = []\n",
    "for sublist in new:\n",
    "    for item in sublist:\n",
    "        flat_list.append(item)\n",
    "flat_list"
   ]
  },
  {
   "cell_type": "code",
   "execution_count": 108,
   "metadata": {},
   "outputs": [],
   "source": [
    "def gambling(x):\n",
    "    Balance = 0\n",
    "    for i in range(1, x + 1):\n",
    "        bet = np.random.choice([1, 2, 3, 4, 5, 6])\n",
    "        house_rolled = np.random.choice([1, 2, 3, 4, 5, 6], size = (1, 3))\n",
    "        count = 0\n",
    "        house_roll = []\n",
    "        for sublist in house_rolled:\n",
    "            for item in sublist:\n",
    "                house_roll.append(item)\n",
    "        for y in house_roll:\n",
    "            if y == bet:\n",
    "                count = count + 1\n",
    "        if count == 0:\n",
    "            Balance = Balance - 1\n",
    "        if count == 2:\n",
    "            Balance = Balance + 1\n",
    "        if count == 3:\n",
    "            Balance = Balance + 2\n",
    "    return Balance"
   ]
  },
  {
   "cell_type": "code",
   "execution_count": 125,
   "metadata": {},
   "outputs": [
    {
     "data": {
      "text/plain": [
       "-499524"
      ]
     },
     "execution_count": 125,
     "metadata": {},
     "output_type": "execute_result"
    }
   ],
   "source": [
    "# If you play 1,000,000 games in a row, what are your winnings/losses?\n",
    "# Lost about $500,000\n",
    "\n",
    "gambling(1000000)"
   ]
  },
  {
   "cell_type": "code",
   "execution_count": 146,
   "metadata": {},
   "outputs": [],
   "source": [
    "def gambling_for_hist(x):\n",
    "    collect = []\n",
    "    for i in range(1, x + 1):\n",
    "        bet = np.random.choice([1, 2, 3, 4, 5, 6])\n",
    "        house_rolled = np.random.choice([1, 2, 3, 4, 5, 6], size = (1, 3))\n",
    "        count = 0\n",
    "        house_roll = []\n",
    "        for sublist in house_rolled:\n",
    "            for item in sublist:\n",
    "                house_roll.append(item)\n",
    "        for y in house_roll:\n",
    "            if y == bet:\n",
    "                count = count + 1\n",
    "        collect.append(count - 1)\n",
    "    return plt.hist(collect, bins = 4)"
   ]
  },
  {
   "cell_type": "code",
   "execution_count": 147,
   "metadata": {},
   "outputs": [
    {
     "data": {
      "text/plain": [
       "(array([578695., 346995.,  69582.,   4728.]),\n",
       " array([-1.  , -0.25,  0.5 ,  1.25,  2.  ]),\n",
       " <BarContainer object of 4 artists>)"
      ]
     },
     "execution_count": 147,
     "metadata": {},
     "output_type": "execute_result"
    },
    {
     "data": {
      "image/png": "[encoded data removed]",
      "text/plain": [
       "<Figure size 432x288 with 1 Axes>"
      ]
     },
     "metadata": {
      "needs_background": "light"
     },
     "output_type": "display_data"
    }
   ],
   "source": [
    "# Chart out a histogram of all the outcomes of those 1,000,000 games\n",
    "\n",
    "gambling_for_hist(1000000)"
   ]
  },
  {
   "cell_type": "code",
   "execution_count": 143,
   "metadata": {},
   "outputs": [],
   "source": [
    "# Is this really a fair game of 1/6 + 1/6 + 1/6 odds?\n",
    "\n",
    "# Not at all"
   ]
  },
  {
   "cell_type": "code",
   "execution_count": null,
   "metadata": {},
   "outputs": [],
   "source": [
    "# If you were to extrapolate the expected winnings per game, what would that number approach per game?\n",
    "\n",
    "# -0.5"
   ]
  }
 ],
 "metadata": {
  "kernelspec": {
   "display_name": "Python 3",
   "language": "python",
   "name": "python3"
  },
  "language_info": {
   "codemirror_mode": {
    "name": "ipython",
    "version": 3
   },
   "file_extension": ".py",
   "mimetype": "text/x-python",
   "name": "python",
   "nbconvert_exporter": "python",
   "pygments_lexer": "ipython3",
   "version": "3.8.5"
  }
 },
 "nbformat": 4,
 "nbformat_minor": 4
}
