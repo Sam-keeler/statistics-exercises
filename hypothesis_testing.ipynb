{
 "cells": [
  {
   "cell_type": "code",
   "execution_count": 1,
   "metadata": {},
   "outputs": [],
   "source": [
    "# Has the network latency gone up since we switched internet service providers?\n",
    "\n",
    "# No: The network latency is the same between both providers.\n",
    "# Na: The network latency has increased since switching providers.\n",
    "\n",
    "# True positive: Network latency has increased and we conclude that it has increased.\n",
    "# True negative: Network latency is the same and we conclude that it is the same.\n",
    "# False positive (Type I): Network latency has not increased but we conclude that it has increased.\n",
    "# False negative (Type II): Network latency has increased but we conclude that it has not increased."
   ]
  },
  {
   "cell_type": "code",
   "execution_count": 2,
   "metadata": {},
   "outputs": [],
   "source": [
    "# Is the website redesign any good?\n",
    "\n",
    "# No: Traffic to the website has remained the same since the redesign.\n",
    "# Na: Traffic to the website has changed since the redesign.\n",
    "\n",
    "# True positive: Traffic to the website has changed and we conclude that it has changed.\n",
    "# True negative: Traffic to the website has remained the same and we conclude that it has remained the same.\n",
    "# False positive (Type I): Traffic to the website has remained the same but we conclude that it has changed.\n",
    "# False negative (Type II): Traffic to the website has changed but we conclude that there was no change."
   ]
  },
  {
   "cell_type": "code",
   "execution_count": 3,
   "metadata": {},
   "outputs": [],
   "source": [
    "# Is our television ad driving more sales?\n",
    "\n",
    "# No: The television ad has resulted in no change in sales.\n",
    "# Na: The television ad has resulted in an increase in sales.\n",
    "\n",
    "# True positive: The television ad has increased sales and we conclude that it has increased sales.\n",
    "# True negative: The television as has resulted in no change in sales and we conclude that no change in sales has \n",
    "#                occurred\n",
    "# False positive (Type I): The television ad has not changed sales but we conclude that it has increased sales.\n",
    "# False negative (Type II): The television as has increased sales but we conclude that it has not changed sales."
   ]
  },
  {
   "cell_type": "code",
   "execution_count": null,
   "metadata": {},
   "outputs": [],
   "source": []
  }
 ],
 "metadata": {
  "kernelspec": {
   "display_name": "Python 3",
   "language": "python",
   "name": "python3"
  },
  "language_info": {
   "codemirror_mode": {
    "name": "ipython",
    "version": 3
   },
   "file_extension": ".py",
   "mimetype": "text/x-python",
   "name": "python",
   "nbconvert_exporter": "python",
   "pygments_lexer": "ipython3",
   "version": "3.8.5"
  }
 },
 "nbformat": 4,
 "nbformat_minor": 4
}
